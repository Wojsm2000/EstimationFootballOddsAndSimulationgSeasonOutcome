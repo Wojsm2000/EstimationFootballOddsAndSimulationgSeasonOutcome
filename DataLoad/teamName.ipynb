{
 "cells": [
  {
   "cell_type": "code",
   "execution_count": 1,
   "metadata": {},
   "outputs": [
    {
     "name": "stdout",
     "output_type": "stream",
     "text": [
      "2012 : 164\n",
      "2013 : 160\n",
      "2014 : 161\n",
      "2015 : 157\n",
      "2016 : 147\n",
      "2017 : 149\n",
      "2018 : 148\n",
      "2019 : 148\n",
      "2020 : 146\n",
      "2021 : 154\n",
      "2022 : 152\n",
      "2023 : 154\n",
      "2024 : 154\n"
     ]
    }
   ],
   "source": [
    "import requests\n",
    "import csv\n",
    "\n",
    "\n",
    "class TeamNameLoader:\n",
    "\n",
    "    def load_team_names(self, url, year) -> list:\n",
    "        fUrl = f\"{url}{year}-04-03\"\n",
    "\n",
    "        r = requests.get(fUrl)\n",
    "        csv_data = [row for row in csv.reader(r.text.splitlines())]\n",
    "        keys = csv_data[0]\n",
    "        values = csv_data[1:]\n",
    "        json_data = [dict(zip(keys, value)) for value in values]\n",
    "\n",
    "        filtered_json_data = [\n",
    "            obj.get(\"Club\")\n",
    "            for obj in json_data\n",
    "            if obj.get(\"Country\")\n",
    "            in (\n",
    "                \"POL\",\n",
    "                \"ROM\",\n",
    "                \"SUI\",\n",
    "                \"DEN\",\n",
    "                \"SCO\",\n",
    "                \"CRO\",\n",
    "                \"CZE\",\n",
    "                \"HUN\",\n",
    "                \"GRE\",\n",
    "                \"SRB\",\n",
    "                \"AUS\",\n",
    "                \"UKR\",\n",
    "            )\n",
    "        ]\n",
    "\n",
    "        \n",
    "        return filtered_json_data\n",
    "\n",
    "\n",
    "a = TeamNameLoader()\n",
    "\n",
    "url = \"http://api.clubelo.com/\"\n",
    "\n",
    "team_names = []\n",
    "\n",
    "for i in range(2012, 2025):\n",
    "\n",
    "    print(f\"{i} : {len(a.load_team_names(url,i))}\")\n",
    "\n",
    "    team_names.extend(list(a.load_team_names(url, i)))\n",
    "\n",
    "    tt = set(team_names)\n",
    "\n",
    "with open(\"team.csv\", \"w\") as f:\n",
    "   \n",
    "    for item in tt:\n",
    "\n",
    "        f.write(\"%s\\n\" % item)"
   ]
  }
 ],
 "metadata": {
  "kernelspec": {
   "display_name": "env",
   "language": "python",
   "name": "python3"
  },
  "language_info": {
   "codemirror_mode": {
    "name": "ipython",
    "version": 3
   },
   "file_extension": ".py",
   "mimetype": "text/x-python",
   "name": "python",
   "nbconvert_exporter": "python",
   "pygments_lexer": "ipython3",
   "version": "3.12.0"
  }
 },
 "nbformat": 4,
 "nbformat_minor": 2
}
